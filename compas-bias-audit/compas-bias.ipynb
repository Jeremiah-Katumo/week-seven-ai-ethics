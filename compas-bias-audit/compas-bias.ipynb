{
 "cells": [
  {
   "cell_type": "code",
   "execution_count": 13,
   "id": "9f166d53",
   "metadata": {},
   "outputs": [
    {
     "name": "stderr",
     "output_type": "stream",
     "text": [
      "2025-07-10 16:56:42.034467: I external/local_xla/xla/tsl/cuda/cudart_stub.cc:32] Could not find cuda drivers on your machine, GPU will not be used.\n",
      "2025-07-10 16:56:43.748272: I external/local_xla/xla/tsl/cuda/cudart_stub.cc:32] Could not find cuda drivers on your machine, GPU will not be used.\n",
      "2025-07-10 16:56:44.347920: E external/local_xla/xla/stream_executor/cuda/cuda_fft.cc:467] Unable to register cuFFT factory: Attempting to register factory for plugin cuFFT when one has already been registered\n",
      "WARNING: All log messages before absl::InitializeLog() is called are written to STDERR\n",
      "E0000 00:00:1752155805.863663    5501 cuda_dnn.cc:8579] Unable to register cuDNN factory: Attempting to register factory for plugin cuDNN when one has already been registered\n",
      "E0000 00:00:1752155805.999185    5501 cuda_blas.cc:1407] Unable to register cuBLAS factory: Attempting to register factory for plugin cuBLAS when one has already been registered\n",
      "W0000 00:00:1752155807.514791    5501 computation_placer.cc:177] computation placer already registered. Please check linkage and avoid linking the same target more than once.\n",
      "W0000 00:00:1752155807.514841    5501 computation_placer.cc:177] computation placer already registered. Please check linkage and avoid linking the same target more than once.\n",
      "W0000 00:00:1752155807.514846    5501 computation_placer.cc:177] computation placer already registered. Please check linkage and avoid linking the same target more than once.\n",
      "W0000 00:00:1752155807.514849    5501 computation_placer.cc:177] computation placer already registered. Please check linkage and avoid linking the same target more than once.\n",
      "2025-07-10 16:56:47.721797: I tensorflow/core/platform/cpu_feature_guard.cc:210] This TensorFlow binary is optimized to use available CPU instructions in performance-critical operations.\n",
      "To enable the following instructions: AVX2 FMA, in other operations, rebuild TensorFlow with the appropriate compiler flags.\n",
      "WARNING:root:No module named 'inFairness': SenSeI and SenSR will be unavailable. To install, run:\n",
      "pip install 'aif360[inFairness]'\n"
     ]
    }
   ],
   "source": [
    "import pandas as pd\n",
    "import numpy as np\n",
    "import janitor\n",
    "import matplotlib.pyplot as plt\n",
    "import seaborn as sns\n",
    "import dash\n",
    "import plotly.express as px\n",
    "import streamlit as st\n",
    "import pandas as pd\n",
    "import numpy as np\n",
    "import matplotlib.pyplot as plt\n",
    "import seaborn as sns\n",
    "from io import BytesIO\n",
    "from sklearn.linear_model import LogisticRegression\n",
    "from sklearn.ensemble import RandomForestClassifier\n",
    "from sklearn.svm import SVC\n",
    "from sklearn.metrics import accuracy_score, confusion_matrix, classification_report\n",
    "from sklearn.model_selection import train_test_split\n",
    "from sklearn.preprocessing import StandardScaler\n",
    "from sklearn.pipeline import Pipeline\n",
    "from sklearn.compose import ColumnTransformer\n",
    "from sklearn.impute import SimpleImputer\n",
    "from sklearn.preprocessing import OneHotEncoder\n",
    "from aif360.datasets import CompasDataset, BinaryLabelDataset\n",
    "from aif360.metrics import ClassificationMetric\n",
    "from aif360.algorithms.preprocessing import Reweighing\n",
    "from fpdf import FPDF"
   ]
  },
  {
   "cell_type": "code",
   "execution_count": 2,
   "id": "85e30945",
   "metadata": {},
   "outputs": [
    {
     "data": {
      "application/vnd.microsoft.datawrangler.viewer.v0+json": {
       "columns": [
        {
         "name": "index",
         "rawType": "int64",
         "type": "integer"
        },
        {
         "name": "id",
         "rawType": "int64",
         "type": "integer"
        },
        {
         "name": "name",
         "rawType": "object",
         "type": "string"
        },
        {
         "name": "first",
         "rawType": "object",
         "type": "string"
        },
        {
         "name": "last",
         "rawType": "object",
         "type": "string"
        },
        {
         "name": "compas_screening_date",
         "rawType": "object",
         "type": "string"
        },
        {
         "name": "sex",
         "rawType": "object",
         "type": "string"
        },
        {
         "name": "dob",
         "rawType": "object",
         "type": "string"
        },
        {
         "name": "age",
         "rawType": "int64",
         "type": "integer"
        },
        {
         "name": "age_cat",
         "rawType": "object",
         "type": "string"
        },
        {
         "name": "race",
         "rawType": "object",
         "type": "string"
        },
        {
         "name": "juv_fel_count",
         "rawType": "int64",
         "type": "integer"
        },
        {
         "name": "decile_score",
         "rawType": "int64",
         "type": "integer"
        },
        {
         "name": "juv_misd_count",
         "rawType": "int64",
         "type": "integer"
        },
        {
         "name": "juv_other_count",
         "rawType": "int64",
         "type": "integer"
        },
        {
         "name": "priors_count",
         "rawType": "int64",
         "type": "integer"
        },
        {
         "name": "days_b_screening_arrest",
         "rawType": "float64",
         "type": "float"
        },
        {
         "name": "c_jail_in",
         "rawType": "object",
         "type": "unknown"
        },
        {
         "name": "c_jail_out",
         "rawType": "object",
         "type": "unknown"
        },
        {
         "name": "c_case_number",
         "rawType": "object",
         "type": "unknown"
        },
        {
         "name": "c_offense_date",
         "rawType": "object",
         "type": "unknown"
        },
        {
         "name": "c_arrest_date",
         "rawType": "object",
         "type": "unknown"
        },
        {
         "name": "c_days_from_compas",
         "rawType": "float64",
         "type": "float"
        },
        {
         "name": "c_charge_degree",
         "rawType": "object",
         "type": "string"
        },
        {
         "name": "c_charge_desc",
         "rawType": "object",
         "type": "unknown"
        },
        {
         "name": "is_recid",
         "rawType": "int64",
         "type": "integer"
        },
        {
         "name": "num_r_cases",
         "rawType": "float64",
         "type": "float"
        },
        {
         "name": "r_case_number",
         "rawType": "object",
         "type": "unknown"
        },
        {
         "name": "r_charge_degree",
         "rawType": "object",
         "type": "string"
        },
        {
         "name": "r_days_from_arrest",
         "rawType": "float64",
         "type": "float"
        },
        {
         "name": "r_offense_date",
         "rawType": "object",
         "type": "unknown"
        },
        {
         "name": "r_charge_desc",
         "rawType": "object",
         "type": "unknown"
        },
        {
         "name": "r_jail_in",
         "rawType": "object",
         "type": "unknown"
        },
        {
         "name": "r_jail_out",
         "rawType": "object",
         "type": "unknown"
        },
        {
         "name": "is_violent_recid",
         "rawType": "int64",
         "type": "integer"
        },
        {
         "name": "num_vr_cases",
         "rawType": "float64",
         "type": "float"
        },
        {
         "name": "vr_case_number",
         "rawType": "object",
         "type": "unknown"
        },
        {
         "name": "vr_charge_degree",
         "rawType": "object",
         "type": "unknown"
        },
        {
         "name": "vr_offense_date",
         "rawType": "object",
         "type": "unknown"
        },
        {
         "name": "vr_charge_desc",
         "rawType": "object",
         "type": "unknown"
        },
        {
         "name": "v_type_of_assessment",
         "rawType": "object",
         "type": "string"
        },
        {
         "name": "v_decile_score",
         "rawType": "int64",
         "type": "integer"
        },
        {
         "name": "v_score_text",
         "rawType": "object",
         "type": "string"
        },
        {
         "name": "v_screening_date",
         "rawType": "object",
         "type": "string"
        },
        {
         "name": "type_of_assessment",
         "rawType": "object",
         "type": "string"
        },
        {
         "name": "decile_score_1",
         "rawType": "int64",
         "type": "integer"
        },
        {
         "name": "score_text",
         "rawType": "object",
         "type": "string"
        },
        {
         "name": "screening_date",
         "rawType": "object",
         "type": "string"
        }
       ],
       "ref": "94512b3d-0d19-44dc-ba23-dbe07a81df2a",
       "rows": [
        [
         "0",
         "1",
         "miguel hernandez",
         "miguel",
         "hernandez",
         "2013-08-14",
         "Male",
         "1947-04-18",
         "69",
         "Greater than 45",
         "Other",
         "0",
         "1",
         "0",
         "0",
         "0",
         "-1.0",
         "2013-08-13 06:03:42",
         "2013-08-14 05:41:20",
         "13011352CF10A",
         "2013-08-13",
         null,
         "1.0",
         "F",
         "Aggravated Assault w/Firearm",
         "0",
         null,
         null,
         "O",
         null,
         null,
         null,
         null,
         null,
         "0",
         null,
         null,
         null,
         null,
         null,
         "Risk of Violence",
         "1",
         "Low",
         "2013-08-14",
         "Risk of Recidivism",
         "1",
         "Low",
         "2013-08-14"
        ],
        [
         "1",
         "2",
         "michael ryan",
         "michael",
         "ryan",
         "2014-12-31",
         "Male",
         "1985-02-06",
         "31",
         "25 - 45",
         "Caucasian",
         "0",
         "5",
         "0",
         "0",
         "0",
         null,
         null,
         null,
         null,
         null,
         null,
         null,
         "O",
         null,
         "-1",
         null,
         null,
         "O",
         null,
         null,
         null,
         null,
         null,
         "0",
         null,
         null,
         null,
         null,
         null,
         "Risk of Violence",
         "2",
         "Low",
         "2014-12-31",
         "Risk of Recidivism",
         "5",
         "Medium",
         "2014-12-31"
        ],
        [
         "2",
         "3",
         "kevon dixon",
         "kevon",
         "dixon",
         "2013-01-27",
         "Male",
         "1982-01-22",
         "34",
         "25 - 45",
         "African-American",
         "0",
         "3",
         "0",
         "0",
         "0",
         "-1.0",
         "2013-01-26 03:45:27",
         "2013-02-05 05:36:53",
         "13001275CF10A",
         "2013-01-26",
         null,
         "1.0",
         "F",
         "Felony Battery w/Prior Convict",
         "1",
         null,
         "13009779CF10A",
         "F",
         null,
         "2013-07-05",
         "Felony Battery (Dom Strang)",
         null,
         null,
         "1",
         null,
         "13009779CF10A",
         "(F3)",
         "2013-07-05",
         "Felony Battery (Dom Strang)",
         "Risk of Violence",
         "1",
         "Low",
         "2013-01-27",
         "Risk of Recidivism",
         "3",
         "Low",
         "2013-01-27"
        ],
        [
         "3",
         "4",
         "ed philo",
         "ed",
         "philo",
         "2013-04-14",
         "Male",
         "1991-05-14",
         "24",
         "Less than 25",
         "African-American",
         "0",
         "4",
         "0",
         "1",
         "4",
         "-1.0",
         "2013-04-13 04:58:34",
         "2013-04-14 07:02:04",
         "13005330CF10A",
         "2013-04-13",
         null,
         "1.0",
         "F",
         "Possession of Cocaine",
         "1",
         null,
         "13011511MM10A",
         "M",
         "0.0",
         "2013-06-16",
         "Driving Under The Influence",
         "2013-06-16",
         "2013-06-16",
         "0",
         null,
         null,
         null,
         null,
         null,
         "Risk of Violence",
         "3",
         "Low",
         "2013-04-14",
         "Risk of Recidivism",
         "4",
         "Low",
         "2013-04-14"
        ],
        [
         "4",
         "5",
         "marcu brown",
         "marcu",
         "brown",
         "2013-01-13",
         "Male",
         "1993-01-21",
         "23",
         "Less than 25",
         "African-American",
         "0",
         "8",
         "1",
         "0",
         "1",
         null,
         null,
         null,
         "13000570CF10A",
         "2013-01-12",
         null,
         "1.0",
         "F",
         "Possession of Cannabis",
         "0",
         null,
         null,
         "O",
         null,
         null,
         null,
         null,
         null,
         "0",
         null,
         null,
         null,
         null,
         null,
         "Risk of Violence",
         "6",
         "Medium",
         "2013-01-13",
         "Risk of Recidivism",
         "8",
         "High",
         "2013-01-13"
        ]
       ],
       "shape": {
        "columns": 47,
        "rows": 5
       }
      },
      "text/html": [
       "<div>\n",
       "<style scoped>\n",
       "    .dataframe tbody tr th:only-of-type {\n",
       "        vertical-align: middle;\n",
       "    }\n",
       "\n",
       "    .dataframe tbody tr th {\n",
       "        vertical-align: top;\n",
       "    }\n",
       "\n",
       "    .dataframe thead th {\n",
       "        text-align: right;\n",
       "    }\n",
       "</style>\n",
       "<table border=\"1\" class=\"dataframe\">\n",
       "  <thead>\n",
       "    <tr style=\"text-align: right;\">\n",
       "      <th></th>\n",
       "      <th>id</th>\n",
       "      <th>name</th>\n",
       "      <th>first</th>\n",
       "      <th>last</th>\n",
       "      <th>compas_screening_date</th>\n",
       "      <th>sex</th>\n",
       "      <th>dob</th>\n",
       "      <th>age</th>\n",
       "      <th>age_cat</th>\n",
       "      <th>race</th>\n",
       "      <th>...</th>\n",
       "      <th>vr_offense_date</th>\n",
       "      <th>vr_charge_desc</th>\n",
       "      <th>v_type_of_assessment</th>\n",
       "      <th>v_decile_score</th>\n",
       "      <th>v_score_text</th>\n",
       "      <th>v_screening_date</th>\n",
       "      <th>type_of_assessment</th>\n",
       "      <th>decile_score_1</th>\n",
       "      <th>score_text</th>\n",
       "      <th>screening_date</th>\n",
       "    </tr>\n",
       "  </thead>\n",
       "  <tbody>\n",
       "    <tr>\n",
       "      <th>0</th>\n",
       "      <td>1</td>\n",
       "      <td>miguel hernandez</td>\n",
       "      <td>miguel</td>\n",
       "      <td>hernandez</td>\n",
       "      <td>2013-08-14</td>\n",
       "      <td>Male</td>\n",
       "      <td>1947-04-18</td>\n",
       "      <td>69</td>\n",
       "      <td>Greater than 45</td>\n",
       "      <td>Other</td>\n",
       "      <td>...</td>\n",
       "      <td>NaN</td>\n",
       "      <td>NaN</td>\n",
       "      <td>Risk of Violence</td>\n",
       "      <td>1</td>\n",
       "      <td>Low</td>\n",
       "      <td>2013-08-14</td>\n",
       "      <td>Risk of Recidivism</td>\n",
       "      <td>1</td>\n",
       "      <td>Low</td>\n",
       "      <td>2013-08-14</td>\n",
       "    </tr>\n",
       "    <tr>\n",
       "      <th>1</th>\n",
       "      <td>2</td>\n",
       "      <td>michael ryan</td>\n",
       "      <td>michael</td>\n",
       "      <td>ryan</td>\n",
       "      <td>2014-12-31</td>\n",
       "      <td>Male</td>\n",
       "      <td>1985-02-06</td>\n",
       "      <td>31</td>\n",
       "      <td>25 - 45</td>\n",
       "      <td>Caucasian</td>\n",
       "      <td>...</td>\n",
       "      <td>NaN</td>\n",
       "      <td>NaN</td>\n",
       "      <td>Risk of Violence</td>\n",
       "      <td>2</td>\n",
       "      <td>Low</td>\n",
       "      <td>2014-12-31</td>\n",
       "      <td>Risk of Recidivism</td>\n",
       "      <td>5</td>\n",
       "      <td>Medium</td>\n",
       "      <td>2014-12-31</td>\n",
       "    </tr>\n",
       "    <tr>\n",
       "      <th>2</th>\n",
       "      <td>3</td>\n",
       "      <td>kevon dixon</td>\n",
       "      <td>kevon</td>\n",
       "      <td>dixon</td>\n",
       "      <td>2013-01-27</td>\n",
       "      <td>Male</td>\n",
       "      <td>1982-01-22</td>\n",
       "      <td>34</td>\n",
       "      <td>25 - 45</td>\n",
       "      <td>African-American</td>\n",
       "      <td>...</td>\n",
       "      <td>2013-07-05</td>\n",
       "      <td>Felony Battery (Dom Strang)</td>\n",
       "      <td>Risk of Violence</td>\n",
       "      <td>1</td>\n",
       "      <td>Low</td>\n",
       "      <td>2013-01-27</td>\n",
       "      <td>Risk of Recidivism</td>\n",
       "      <td>3</td>\n",
       "      <td>Low</td>\n",
       "      <td>2013-01-27</td>\n",
       "    </tr>\n",
       "    <tr>\n",
       "      <th>3</th>\n",
       "      <td>4</td>\n",
       "      <td>ed philo</td>\n",
       "      <td>ed</td>\n",
       "      <td>philo</td>\n",
       "      <td>2013-04-14</td>\n",
       "      <td>Male</td>\n",
       "      <td>1991-05-14</td>\n",
       "      <td>24</td>\n",
       "      <td>Less than 25</td>\n",
       "      <td>African-American</td>\n",
       "      <td>...</td>\n",
       "      <td>NaN</td>\n",
       "      <td>NaN</td>\n",
       "      <td>Risk of Violence</td>\n",
       "      <td>3</td>\n",
       "      <td>Low</td>\n",
       "      <td>2013-04-14</td>\n",
       "      <td>Risk of Recidivism</td>\n",
       "      <td>4</td>\n",
       "      <td>Low</td>\n",
       "      <td>2013-04-14</td>\n",
       "    </tr>\n",
       "    <tr>\n",
       "      <th>4</th>\n",
       "      <td>5</td>\n",
       "      <td>marcu brown</td>\n",
       "      <td>marcu</td>\n",
       "      <td>brown</td>\n",
       "      <td>2013-01-13</td>\n",
       "      <td>Male</td>\n",
       "      <td>1993-01-21</td>\n",
       "      <td>23</td>\n",
       "      <td>Less than 25</td>\n",
       "      <td>African-American</td>\n",
       "      <td>...</td>\n",
       "      <td>NaN</td>\n",
       "      <td>NaN</td>\n",
       "      <td>Risk of Violence</td>\n",
       "      <td>6</td>\n",
       "      <td>Medium</td>\n",
       "      <td>2013-01-13</td>\n",
       "      <td>Risk of Recidivism</td>\n",
       "      <td>8</td>\n",
       "      <td>High</td>\n",
       "      <td>2013-01-13</td>\n",
       "    </tr>\n",
       "  </tbody>\n",
       "</table>\n",
       "<p>5 rows × 47 columns</p>\n",
       "</div>"
      ],
      "text/plain": [
       "   id              name    first       last compas_screening_date   sex  \\\n",
       "0   1  miguel hernandez   miguel  hernandez            2013-08-14  Male   \n",
       "1   2      michael ryan  michael       ryan            2014-12-31  Male   \n",
       "2   3       kevon dixon    kevon      dixon            2013-01-27  Male   \n",
       "3   4          ed philo       ed      philo            2013-04-14  Male   \n",
       "4   5       marcu brown    marcu      brown            2013-01-13  Male   \n",
       "\n",
       "          dob  age          age_cat              race  ...  vr_offense_date  \\\n",
       "0  1947-04-18   69  Greater than 45             Other  ...              NaN   \n",
       "1  1985-02-06   31          25 - 45         Caucasian  ...              NaN   \n",
       "2  1982-01-22   34          25 - 45  African-American  ...       2013-07-05   \n",
       "3  1991-05-14   24     Less than 25  African-American  ...              NaN   \n",
       "4  1993-01-21   23     Less than 25  African-American  ...              NaN   \n",
       "\n",
       "                vr_charge_desc  v_type_of_assessment  v_decile_score  \\\n",
       "0                          NaN      Risk of Violence               1   \n",
       "1                          NaN      Risk of Violence               2   \n",
       "2  Felony Battery (Dom Strang)      Risk of Violence               1   \n",
       "3                          NaN      Risk of Violence               3   \n",
       "4                          NaN      Risk of Violence               6   \n",
       "\n",
       "   v_score_text  v_screening_date  type_of_assessment decile_score_1  \\\n",
       "0           Low        2013-08-14  Risk of Recidivism              1   \n",
       "1           Low        2014-12-31  Risk of Recidivism              5   \n",
       "2           Low        2013-01-27  Risk of Recidivism              3   \n",
       "3           Low        2013-04-14  Risk of Recidivism              4   \n",
       "4        Medium        2013-01-13  Risk of Recidivism              8   \n",
       "\n",
       "  score_text screening_date  \n",
       "0        Low     2013-08-14  \n",
       "1     Medium     2014-12-31  \n",
       "2        Low     2013-01-27  \n",
       "3        Low     2013-04-14  \n",
       "4       High     2013-01-13  \n",
       "\n",
       "[5 rows x 47 columns]"
      ]
     },
     "execution_count": 2,
     "metadata": {},
     "output_type": "execute_result"
    }
   ],
   "source": [
    "compas = pd.read_csv(\"/home/jeremy/Documents/PLP/week-seven-ai-ethics/compas-bias-audit/data/compas-scores.csv\")\n",
    "compas = janitor.clean_names(compas)\n",
    "compas.head()"
   ]
  },
  {
   "cell_type": "code",
   "execution_count": 3,
   "id": "b22903dc",
   "metadata": {},
   "outputs": [
    {
     "data": {
      "application/vnd.microsoft.datawrangler.viewer.v0+json": {
       "columns": [
        {
         "name": "index",
         "rawType": "int64",
         "type": "integer"
        },
        {
         "name": "decile_score",
         "rawType": "int64",
         "type": "integer"
        },
        {
         "name": "count",
         "rawType": "int64",
         "type": "integer"
        }
       ],
       "ref": "8667579a-1970-4a11-ac28-8fb920855c3e",
       "rows": [
        [
         "0",
         "-1",
         "15"
        ],
        [
         "1",
         "1",
         "2577"
        ],
        [
         "2",
         "2",
         "1572"
        ],
        [
         "3",
         "3",
         "1259"
        ],
        [
         "4",
         "4",
         "1199"
        ],
        [
         "5",
         "5",
         "1034"
        ],
        [
         "6",
         "6",
         "993"
        ],
        [
         "7",
         "7",
         "900"
        ],
        [
         "8",
         "8",
         "796"
        ],
        [
         "9",
         "9",
         "802"
        ],
        [
         "10",
         "10",
         "610"
        ]
       ],
       "shape": {
        "columns": 2,
        "rows": 11
       }
      },
      "text/html": [
       "<div>\n",
       "<style scoped>\n",
       "    .dataframe tbody tr th:only-of-type {\n",
       "        vertical-align: middle;\n",
       "    }\n",
       "\n",
       "    .dataframe tbody tr th {\n",
       "        vertical-align: top;\n",
       "    }\n",
       "\n",
       "    .dataframe thead th {\n",
       "        text-align: right;\n",
       "    }\n",
       "</style>\n",
       "<table border=\"1\" class=\"dataframe\">\n",
       "  <thead>\n",
       "    <tr style=\"text-align: right;\">\n",
       "      <th></th>\n",
       "      <th>decile_score</th>\n",
       "      <th>count</th>\n",
       "    </tr>\n",
       "  </thead>\n",
       "  <tbody>\n",
       "    <tr>\n",
       "      <th>0</th>\n",
       "      <td>-1</td>\n",
       "      <td>15</td>\n",
       "    </tr>\n",
       "    <tr>\n",
       "      <th>1</th>\n",
       "      <td>1</td>\n",
       "      <td>2577</td>\n",
       "    </tr>\n",
       "    <tr>\n",
       "      <th>2</th>\n",
       "      <td>2</td>\n",
       "      <td>1572</td>\n",
       "    </tr>\n",
       "    <tr>\n",
       "      <th>3</th>\n",
       "      <td>3</td>\n",
       "      <td>1259</td>\n",
       "    </tr>\n",
       "    <tr>\n",
       "      <th>4</th>\n",
       "      <td>4</td>\n",
       "      <td>1199</td>\n",
       "    </tr>\n",
       "    <tr>\n",
       "      <th>5</th>\n",
       "      <td>5</td>\n",
       "      <td>1034</td>\n",
       "    </tr>\n",
       "    <tr>\n",
       "      <th>6</th>\n",
       "      <td>6</td>\n",
       "      <td>993</td>\n",
       "    </tr>\n",
       "    <tr>\n",
       "      <th>7</th>\n",
       "      <td>7</td>\n",
       "      <td>900</td>\n",
       "    </tr>\n",
       "    <tr>\n",
       "      <th>8</th>\n",
       "      <td>8</td>\n",
       "      <td>796</td>\n",
       "    </tr>\n",
       "    <tr>\n",
       "      <th>9</th>\n",
       "      <td>9</td>\n",
       "      <td>802</td>\n",
       "    </tr>\n",
       "    <tr>\n",
       "      <th>10</th>\n",
       "      <td>10</td>\n",
       "      <td>610</td>\n",
       "    </tr>\n",
       "  </tbody>\n",
       "</table>\n",
       "</div>"
      ],
      "text/plain": [
       "    decile_score  count\n",
       "0             -1     15\n",
       "1              1   2577\n",
       "2              2   1572\n",
       "3              3   1259\n",
       "4              4   1199\n",
       "5              5   1034\n",
       "6              6    993\n",
       "7              7    900\n",
       "8              8    796\n",
       "9              9    802\n",
       "10            10    610"
      ]
     },
     "execution_count": 3,
     "metadata": {},
     "output_type": "execute_result"
    }
   ],
   "source": [
    "pd.DataFrame(compas[\"decile_score\"].value_counts()) \\\n",
    "    .sort_index().reset_index() \\\n",
    "        # .rename(columns={\"index\": \"decile_score\", \"decile_score\": \"count\"}) \\\n",
    "        #     .sort_values(by=\"decile_score\", ascending=True)"
   ]
  },
  {
   "cell_type": "code",
   "execution_count": 4,
   "id": "dfabef62",
   "metadata": {},
   "outputs": [
    {
     "data": {
      "text/plain": [
       "(11757, 47)"
      ]
     },
     "execution_count": 4,
     "metadata": {},
     "output_type": "execute_result"
    }
   ],
   "source": [
    "compas.shape"
   ]
  },
  {
   "cell_type": "code",
   "execution_count": 5,
   "id": "e26a3846",
   "metadata": {},
   "outputs": [
    {
     "name": "stdout",
     "output_type": "stream",
     "text": [
      "<class 'pandas.core.frame.DataFrame'>\n",
      "RangeIndex: 11757 entries, 0 to 11756\n",
      "Data columns (total 47 columns):\n",
      " #   Column                   Non-Null Count  Dtype  \n",
      "---  ------                   --------------  -----  \n",
      " 0   id                       11757 non-null  int64  \n",
      " 1   name                     11757 non-null  object \n",
      " 2   first                    11757 non-null  object \n",
      " 3   last                     11757 non-null  object \n",
      " 4   compas_screening_date    11757 non-null  object \n",
      " 5   sex                      11757 non-null  object \n",
      " 6   dob                      11757 non-null  object \n",
      " 7   age                      11757 non-null  int64  \n",
      " 8   age_cat                  11757 non-null  object \n",
      " 9   race                     11757 non-null  object \n",
      " 10  juv_fel_count            11757 non-null  int64  \n",
      " 11  decile_score             11757 non-null  int64  \n",
      " 12  juv_misd_count           11757 non-null  int64  \n",
      " 13  juv_other_count          11757 non-null  int64  \n",
      " 14  priors_count             11757 non-null  int64  \n",
      " 15  days_b_screening_arrest  10577 non-null  float64\n",
      " 16  c_jail_in                10577 non-null  object \n",
      " 17  c_jail_out               10577 non-null  object \n",
      " 18  c_case_number            11015 non-null  object \n",
      " 19  c_offense_date           9157 non-null   object \n",
      " 20  c_arrest_date            1858 non-null   object \n",
      " 21  c_days_from_compas       11015 non-null  float64\n",
      " 22  c_charge_degree          11757 non-null  object \n",
      " 23  c_charge_desc            11008 non-null  object \n",
      " 24  is_recid                 11757 non-null  int64  \n",
      " 25  num_r_cases              0 non-null      float64\n",
      " 26  r_case_number            3703 non-null   object \n",
      " 27  r_charge_degree          11757 non-null  object \n",
      " 28  r_days_from_arrest       2460 non-null   float64\n",
      " 29  r_offense_date           3703 non-null   object \n",
      " 30  r_charge_desc            3643 non-null   object \n",
      " 31  r_jail_in                2460 non-null   object \n",
      " 32  r_jail_out               2460 non-null   object \n",
      " 33  is_violent_recid         11757 non-null  int64  \n",
      " 34  num_vr_cases             0 non-null      float64\n",
      " 35  vr_case_number           882 non-null    object \n",
      " 36  vr_charge_degree         882 non-null    object \n",
      " 37  vr_offense_date          882 non-null    object \n",
      " 38  vr_charge_desc           882 non-null    object \n",
      " 39  v_type_of_assessment     11757 non-null  object \n",
      " 40  v_decile_score           11757 non-null  int64  \n",
      " 41  v_score_text             11752 non-null  object \n",
      " 42  v_screening_date         11757 non-null  object \n",
      " 43  type_of_assessment       11757 non-null  object \n",
      " 44  decile_score_1           11757 non-null  int64  \n",
      " 45  score_text               11742 non-null  object \n",
      " 46  screening_date           11757 non-null  object \n",
      "dtypes: float64(5), int64(11), object(31)\n",
      "memory usage: 4.2+ MB\n"
     ]
    }
   ],
   "source": [
    "compas.info()"
   ]
  },
  {
   "cell_type": "code",
   "execution_count": 6,
   "id": "4a88e4e7",
   "metadata": {},
   "outputs": [
    {
     "data": {
      "text/plain": [
       "Index(['age', 'age_cat', 'c_arrest_date', 'c_case_number', 'c_charge_degree',\n",
       "       'c_charge_desc', 'c_days_from_compas', 'c_jail_in', 'c_jail_out',\n",
       "       'c_offense_date', 'compas_screening_date', 'days_b_screening_arrest',\n",
       "       'decile_score', 'decile_score_1', 'dob', 'first', 'id', 'is_recid',\n",
       "       'is_violent_recid', 'juv_fel_count', 'juv_misd_count',\n",
       "       'juv_other_count', 'last', 'name', 'num_r_cases', 'num_vr_cases',\n",
       "       'priors_count', 'r_case_number', 'r_charge_degree', 'r_charge_desc',\n",
       "       'r_days_from_arrest', 'r_jail_in', 'r_jail_out', 'r_offense_date',\n",
       "       'race', 'score_text', 'screening_date', 'sex', 'type_of_assessment',\n",
       "       'v_decile_score', 'v_score_text', 'v_screening_date',\n",
       "       'v_type_of_assessment', 'vr_case_number', 'vr_charge_degree',\n",
       "       'vr_charge_desc', 'vr_offense_date'],\n",
       "      dtype='object')"
      ]
     },
     "execution_count": 6,
     "metadata": {},
     "output_type": "execute_result"
    }
   ],
   "source": [
    "compas.columns.sort_values(ascending=True)"
   ]
  },
  {
   "cell_type": "code",
   "execution_count": 7,
   "id": "714fc8bb",
   "metadata": {},
   "outputs": [
    {
     "data": {
      "application/vnd.microsoft.datawrangler.viewer.v0+json": {
       "columns": [
        {
         "name": "race",
         "rawType": "object",
         "type": "string"
        },
        {
         "name": "count",
         "rawType": "int64",
         "type": "integer"
        }
       ],
       "ref": "b9c501d9-34c3-4742-a7b9-0dd4e30af25d",
       "rows": [
        [
         "African-American",
         "5813"
        ],
        [
         "Caucasian",
         "4085"
        ],
        [
         "Hispanic",
         "1100"
        ],
        [
         "Other",
         "661"
        ],
        [
         "Asian",
         "58"
        ],
        [
         "Native American",
         "40"
        ]
       ],
       "shape": {
        "columns": 1,
        "rows": 6
       }
      },
      "text/plain": [
       "race\n",
       "African-American    5813\n",
       "Caucasian           4085\n",
       "Hispanic            1100\n",
       "Other                661\n",
       "Asian                 58\n",
       "Native American       40\n",
       "Name: count, dtype: int64"
      ]
     },
     "execution_count": 7,
     "metadata": {},
     "output_type": "execute_result"
    }
   ],
   "source": [
    "compas[\"race\"].value_counts()"
   ]
  },
  {
   "cell_type": "code",
   "execution_count": 8,
   "id": "647805de",
   "metadata": {},
   "outputs": [
    {
     "data": {
      "application/vnd.microsoft.datawrangler.viewer.v0+json": {
       "columns": [
        {
         "name": "type_of_assessment",
         "rawType": "object",
         "type": "string"
        },
        {
         "name": "count",
         "rawType": "int64",
         "type": "integer"
        }
       ],
       "ref": "ee127728-ffa6-4daa-af27-7aca9debf9b3",
       "rows": [
        [
         "Risk of Recidivism",
         "11757"
        ]
       ],
       "shape": {
        "columns": 1,
        "rows": 1
       }
      },
      "text/plain": [
       "type_of_assessment\n",
       "Risk of Recidivism    11757\n",
       "Name: count, dtype: int64"
      ]
     },
     "execution_count": 8,
     "metadata": {},
     "output_type": "execute_result"
    }
   ],
   "source": [
    "compas['type_of_assessment'].value_counts()"
   ]
  },
  {
   "cell_type": "code",
   "execution_count": 9,
   "id": "23fbeb10",
   "metadata": {},
   "outputs": [
    {
     "data": {
      "application/vnd.microsoft.datawrangler.viewer.v0+json": {
       "columns": [
        {
         "name": "age_cat",
         "rawType": "object",
         "type": "string"
        },
        {
         "name": "count",
         "rawType": "int64",
         "type": "integer"
        }
       ],
       "ref": "6857a12a-3687-406e-84e3-88f2af20e270",
       "rows": [
        [
         "25 - 45",
         "6649"
        ],
        [
         "Greater than 45",
         "2668"
        ],
        [
         "Less than 25",
         "2440"
        ]
       ],
       "shape": {
        "columns": 1,
        "rows": 3
       }
      },
      "text/plain": [
       "age_cat\n",
       "25 - 45            6649\n",
       "Greater than 45    2668\n",
       "Less than 25       2440\n",
       "Name: count, dtype: int64"
      ]
     },
     "execution_count": 9,
     "metadata": {},
     "output_type": "execute_result"
    }
   ],
   "source": [
    "compas['age_cat'].value_counts()"
   ]
  },
  {
   "cell_type": "code",
   "execution_count": 10,
   "id": "e870d061",
   "metadata": {},
   "outputs": [
    {
     "data": {
      "application/vnd.microsoft.datawrangler.viewer.v0+json": {
       "columns": [
        {
         "name": "score_text",
         "rawType": "object",
         "type": "string"
        },
        {
         "name": "count",
         "rawType": "int64",
         "type": "integer"
        }
       ],
       "ref": "68266fd7-a1bd-4faf-9240-e35a1e357a06",
       "rows": [
        [
         "Low",
         "6607"
        ],
        [
         "Medium",
         "2927"
        ],
        [
         "High",
         "2208"
        ]
       ],
       "shape": {
        "columns": 1,
        "rows": 3
       }
      },
      "text/plain": [
       "score_text\n",
       "Low       6607\n",
       "Medium    2927\n",
       "High      2208\n",
       "Name: count, dtype: int64"
      ]
     },
     "execution_count": 10,
     "metadata": {},
     "output_type": "execute_result"
    }
   ],
   "source": [
    "compas['score_text'].value_counts()"
   ]
  },
  {
   "cell_type": "code",
   "execution_count": 11,
   "id": "1ca6a8ca",
   "metadata": {},
   "outputs": [
    {
     "data": {
      "image/png": "[encoded data removed]",
      "text/plain": [
       "<Figure size 1000x600 with 1 Axes>"
      ]
     },
     "metadata": {},
     "output_type": "display_data"
    }
   ],
   "source": [
    "# plot a histogram of the decile scores using seaborn\n",
    "plt.figure(figsize=(10, 6))\n",
    "sns.histplot(compas['decile_score'], bins=10, kde=True)\n",
    "plt.title('Distribution of Decile Scores')\n",
    "plt.xlabel('Decile Score')\n",
    "plt.ylabel('Frequency')\n",
    "plt.grid()\n",
    "plt.show()"
   ]
  },
  {
   "cell_type": "code",
   "execution_count": 12,
   "id": "c41af808",
   "metadata": {},
   "outputs": [
    {
     "data": {
      "image/png": "[encoded data removed]",
      "text/plain": [
       "<Figure size 1500x600 with 2 Axes>"
      ]
     },
     "metadata": {},
     "output_type": "display_data"
    }
   ],
   "source": [
    "fig, ax = plt.subplots(1, 2, figsize=(15, 6))\n",
    "\n",
    "# African-American\n",
    "sns.histplot(compas[compas['race'] == 'African-American']['decile_score'], bins=10, kde=True, ax=ax[0])\n",
    "ax[0].set_title('African-American Decile Scores')\n",
    "\n",
    "# White and other races\n",
    "sns.histplot(compas[compas['race'].isin(['Caucasian', 'Hispanic', 'Other', 'Asian', 'Native American'])]['decile_score'], bins=10, kde=True, ax=ax[1])\n",
    "ax[1].set_title('Other Races Decile Scores')\n",
    "\n",
    "plt.tight_layout()\n",
    "plt.show()"
   ]
  },
  {
   "cell_type": "code",
   "execution_count": null,
   "id": "fb57ca07",
   "metadata": {},
   "outputs": [],
   "source": []
  }
 ],
 "metadata": {
  "kernelspec": {
   "display_name": ".venv",
   "language": "python",
   "name": "python3"
  },
  "language_info": {
   "codemirror_mode": {
    "name": "ipython",
    "version": 3
   },
   "file_extension": ".py",
   "mimetype": "text/x-python",
   "name": "python",
   "nbconvert_exporter": "python",
   "pygments_lexer": "ipython3",
   "version": "3.12.3"
  }
 },
 "nbformat": 4,
 "nbformat_minor": 5
}
